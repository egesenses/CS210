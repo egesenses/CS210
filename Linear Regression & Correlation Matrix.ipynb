{
 "cells": [
  {
   "cell_type": "markdown",
   "metadata": {},
   "source": [
    "# Linear Regression"
   ]
  },
  {
   "cell_type": "code",
   "execution_count": 2,
   "metadata": {},
   "outputs": [],
   "source": [
    "from numpy import *\n",
    "import pandas as pd"
   ]
  },
  {
   "cell_type": "code",
   "execution_count": 3,
   "metadata": {},
   "outputs": [],
   "source": [
    "data = pd.read_excel(\"_data.xlsx\")"
   ]
  },
  {
   "cell_type": "code",
   "execution_count": 4,
   "metadata": {},
   "outputs": [
    {
     "data": {
      "text/html": [
       "<div>\n",
       "<style scoped>\n",
       "    .dataframe tbody tr th:only-of-type {\n",
       "        vertical-align: middle;\n",
       "    }\n",
       "\n",
       "    .dataframe tbody tr th {\n",
       "        vertical-align: top;\n",
       "    }\n",
       "\n",
       "    .dataframe thead th {\n",
       "        text-align: right;\n",
       "    }\n",
       "</style>\n",
       "<table border=\"1\" class=\"dataframe\">\n",
       "  <thead>\n",
       "    <tr style=\"text-align: right;\">\n",
       "      <th></th>\n",
       "      <th>Life Expectancy</th>\n",
       "      <th>Deaths</th>\n",
       "    </tr>\n",
       "  </thead>\n",
       "  <tbody>\n",
       "    <tr>\n",
       "      <th>0</th>\n",
       "      <td>76.7</td>\n",
       "      <td>68399</td>\n",
       "    </tr>\n",
       "    <tr>\n",
       "      <th>1</th>\n",
       "      <td>76.8</td>\n",
       "      <td>69301</td>\n",
       "    </tr>\n",
       "    <tr>\n",
       "      <th>2</th>\n",
       "      <td>77.0</td>\n",
       "      <td>71372</td>\n",
       "    </tr>\n",
       "    <tr>\n",
       "      <th>3</th>\n",
       "      <td>77.0</td>\n",
       "      <td>73249</td>\n",
       "    </tr>\n",
       "    <tr>\n",
       "      <th>4</th>\n",
       "      <td>77.6</td>\n",
       "      <td>74219</td>\n",
       "    </tr>\n",
       "    <tr>\n",
       "      <th>5</th>\n",
       "      <td>77.5</td>\n",
       "      <td>73138</td>\n",
       "    </tr>\n",
       "    <tr>\n",
       "      <th>6</th>\n",
       "      <td>77.6</td>\n",
       "      <td>75119</td>\n",
       "    </tr>\n",
       "    <tr>\n",
       "      <th>7</th>\n",
       "      <td>77.8</td>\n",
       "      <td>72449</td>\n",
       "    </tr>\n",
       "    <tr>\n",
       "      <th>8</th>\n",
       "      <td>78.1</td>\n",
       "      <td>71382</td>\n",
       "    </tr>\n",
       "    <tr>\n",
       "      <th>9</th>\n",
       "      <td>78.2</td>\n",
       "      <td>70553</td>\n",
       "    </tr>\n",
       "    <tr>\n",
       "      <th>10</th>\n",
       "      <td>78.5</td>\n",
       "      <td>68705</td>\n",
       "    </tr>\n",
       "    <tr>\n",
       "      <th>11</th>\n",
       "      <td>78.7</td>\n",
       "      <td>69071</td>\n",
       "    </tr>\n",
       "    <tr>\n",
       "      <th>12</th>\n",
       "      <td>78.7</td>\n",
       "      <td>73831</td>\n",
       "    </tr>\n",
       "    <tr>\n",
       "      <th>13</th>\n",
       "      <td>78.8</td>\n",
       "      <td>73932</td>\n",
       "    </tr>\n",
       "    <tr>\n",
       "      <th>14</th>\n",
       "      <td>78.8</td>\n",
       "      <td>75578</td>\n",
       "    </tr>\n",
       "    <tr>\n",
       "      <th>15</th>\n",
       "      <td>78.9</td>\n",
       "      <td>76488</td>\n",
       "    </tr>\n",
       "    <tr>\n",
       "      <th>16</th>\n",
       "      <td>79.0</td>\n",
       "      <td>79535</td>\n",
       "    </tr>\n",
       "  </tbody>\n",
       "</table>\n",
       "</div>"
      ],
      "text/plain": [
       "    Life Expectancy  Deaths\n",
       "0              76.7   68399\n",
       "1              76.8   69301\n",
       "2              77.0   71372\n",
       "3              77.0   73249\n",
       "4              77.6   74219\n",
       "5              77.5   73138\n",
       "6              77.6   75119\n",
       "7              77.8   72449\n",
       "8              78.1   71382\n",
       "9              78.2   70553\n",
       "10             78.5   68705\n",
       "11             78.7   69071\n",
       "12             78.7   73831\n",
       "13             78.8   73932\n",
       "14             78.8   75578\n",
       "15             78.9   76488\n",
       "16             79.0   79535"
      ]
     },
     "execution_count": 4,
     "metadata": {},
     "output_type": "execute_result"
    }
   ],
   "source": [
    "data"
   ]
  },
  {
   "cell_type": "code",
   "execution_count": 5,
   "metadata": {},
   "outputs": [],
   "source": [
    "x = data[\"Life Expectancy\"]\n",
    "y = data[\"Deaths\"]"
   ]
  },
  {
   "cell_type": "code",
   "execution_count": 6,
   "metadata": {},
   "outputs": [
    {
     "data": {
      "text/plain": [
       "0     76.7\n",
       "1     76.8\n",
       "2     77.0\n",
       "3     77.0\n",
       "4     77.6\n",
       "5     77.5\n",
       "6     77.6\n",
       "7     77.8\n",
       "8     78.1\n",
       "9     78.2\n",
       "10    78.5\n",
       "11    78.7\n",
       "12    78.7\n",
       "13    78.8\n",
       "14    78.8\n",
       "15    78.9\n",
       "16    79.0\n",
       "Name: Life Expectancy, dtype: float64"
      ]
     },
     "execution_count": 6,
     "metadata": {},
     "output_type": "execute_result"
    }
   ],
   "source": [
    "x"
   ]
  },
  {
   "cell_type": "code",
   "execution_count": 8,
   "metadata": {},
   "outputs": [],
   "source": [
    "from scipy.interpolate import *"
   ]
  },
  {
   "cell_type": "markdown",
   "metadata": {},
   "source": [
    "pl = polyfit(x,y,1)"
   ]
  },
  {
   "cell_type": "code",
   "execution_count": 10,
   "metadata": {},
   "outputs": [
    {
     "name": "stdout",
     "output_type": "stream",
     "text": [
      "[  1775.15601351 -65706.07806497]\n"
     ]
    }
   ],
   "source": [
    "print(pl)"
   ]
  },
  {
   "cell_type": "code",
   "execution_count": 11,
   "metadata": {},
   "outputs": [],
   "source": [
    "from matplotlib.pyplot import *"
   ]
  },
  {
   "cell_type": "code",
   "execution_count": 12,
   "metadata": {},
   "outputs": [],
   "source": [
    "%matplotlib inline"
   ]
  },
  {
   "cell_type": "code",
   "execution_count": 13,
   "metadata": {},
   "outputs": [
    {
     "data": {
      "text/plain": [
       "[<matplotlib.lines.Line2D at 0x1ec61791780>]"
      ]
     },
     "execution_count": 13,
     "metadata": {},
     "output_type": "execute_result"
    },
    {
     "data": {
      "image/png": "[encoded data removed]",
      "text/plain": [
       "<matplotlib.figure.Figure at 0x1ec60614438>"
      ]
     },
     "metadata": {},
     "output_type": "display_data"
    }
   ],
   "source": [
    "plot(x,y, 'o')"
   ]
  },
  {
   "cell_type": "code",
   "execution_count": 16,
   "metadata": {},
   "outputs": [
    {
     "data": {
      "text/plain": [
       "[<matplotlib.lines.Line2D at 0x1ec62837d30>]"
      ]
     },
     "execution_count": 16,
     "metadata": {},
     "output_type": "execute_result"
    },
    {
     "data": {
      "image/png": "[encoded data removed]",
      "text/plain": [
       "<matplotlib.figure.Figure at 0x1ec62837cf8>"
      ]
     },
     "metadata": {},
     "output_type": "display_data"
    }
   ],
   "source": [
    "plot(x,y, 'o')\n",
    "plot(x, polyval(pl, x), 'g-')"
   ]
  },
  {
   "cell_type": "markdown",
   "metadata": {},
   "source": [
    "# Correlation Matrix"
   ]
  },
  {
   "cell_type": "code",
   "execution_count": 26,
   "metadata": {},
   "outputs": [],
   "source": [
    "data = pd.read_excel(\"-data.xlsx\")"
   ]
  },
  {
   "cell_type": "code",
   "execution_count": 27,
   "metadata": {},
   "outputs": [],
   "source": [
    "df = pd.DataFrame(data, columns = ['Life Expectancy', 'Diabetes', 'Heart Diseases', 'Chronic Liver', 'Chronic Lower Respiratory']) "
   ]
  },
  {
   "cell_type": "code",
   "execution_count": 28,
   "metadata": {},
   "outputs": [
    {
     "data": {
      "text/html": [
       "<div>\n",
       "<style scoped>\n",
       "    .dataframe tbody tr th:only-of-type {\n",
       "        vertical-align: middle;\n",
       "    }\n",
       "\n",
       "    .dataframe tbody tr th {\n",
       "        vertical-align: top;\n",
       "    }\n",
       "\n",
       "    .dataframe thead th {\n",
       "        text-align: right;\n",
       "    }\n",
       "</style>\n",
       "<table border=\"1\" class=\"dataframe\">\n",
       "  <thead>\n",
       "    <tr style=\"text-align: right;\">\n",
       "      <th></th>\n",
       "      <th>Life Expectancy</th>\n",
       "      <th>Diabetes</th>\n",
       "      <th>Heart Diseases</th>\n",
       "      <th>Chronic Liver</th>\n",
       "      <th>Chronic Lower Respiratory</th>\n",
       "    </tr>\n",
       "  </thead>\n",
       "  <tbody>\n",
       "    <tr>\n",
       "      <th>0</th>\n",
       "      <td>76.7</td>\n",
       "      <td>68399</td>\n",
       "      <td>725192</td>\n",
       "      <td>26259</td>\n",
       "      <td>124181</td>\n",
       "    </tr>\n",
       "    <tr>\n",
       "      <th>1</th>\n",
       "      <td>76.8</td>\n",
       "      <td>69301</td>\n",
       "      <td>710760</td>\n",
       "      <td>26552</td>\n",
       "      <td>122009</td>\n",
       "    </tr>\n",
       "    <tr>\n",
       "      <th>2</th>\n",
       "      <td>77.0</td>\n",
       "      <td>71372</td>\n",
       "      <td>700142</td>\n",
       "      <td>27035</td>\n",
       "      <td>123013</td>\n",
       "    </tr>\n",
       "    <tr>\n",
       "      <th>3</th>\n",
       "      <td>77.0</td>\n",
       "      <td>73249</td>\n",
       "      <td>696947</td>\n",
       "      <td>27257</td>\n",
       "      <td>124816</td>\n",
       "    </tr>\n",
       "    <tr>\n",
       "      <th>4</th>\n",
       "      <td>77.6</td>\n",
       "      <td>74219</td>\n",
       "      <td>685089</td>\n",
       "      <td>27503</td>\n",
       "      <td>126382</td>\n",
       "    </tr>\n",
       "    <tr>\n",
       "      <th>5</th>\n",
       "      <td>77.5</td>\n",
       "      <td>73138</td>\n",
       "      <td>652486</td>\n",
       "      <td>27013</td>\n",
       "      <td>121987</td>\n",
       "    </tr>\n",
       "    <tr>\n",
       "      <th>6</th>\n",
       "      <td>77.6</td>\n",
       "      <td>75119</td>\n",
       "      <td>652091</td>\n",
       "      <td>27530</td>\n",
       "      <td>130933</td>\n",
       "    </tr>\n",
       "    <tr>\n",
       "      <th>7</th>\n",
       "      <td>77.8</td>\n",
       "      <td>72449</td>\n",
       "      <td>631636</td>\n",
       "      <td>27555</td>\n",
       "      <td>124583</td>\n",
       "    </tr>\n",
       "    <tr>\n",
       "      <th>8</th>\n",
       "      <td>78.1</td>\n",
       "      <td>71382</td>\n",
       "      <td>616067</td>\n",
       "      <td>29165</td>\n",
       "      <td>127924</td>\n",
       "    </tr>\n",
       "    <tr>\n",
       "      <th>9</th>\n",
       "      <td>78.2</td>\n",
       "      <td>70553</td>\n",
       "      <td>616828</td>\n",
       "      <td>29963</td>\n",
       "      <td>141090</td>\n",
       "    </tr>\n",
       "    <tr>\n",
       "      <th>10</th>\n",
       "      <td>78.5</td>\n",
       "      <td>68705</td>\n",
       "      <td>599143</td>\n",
       "      <td>30558</td>\n",
       "      <td>137353</td>\n",
       "    </tr>\n",
       "    <tr>\n",
       "      <th>11</th>\n",
       "      <td>78.7</td>\n",
       "      <td>69071</td>\n",
       "      <td>597689</td>\n",
       "      <td>31903</td>\n",
       "      <td>138080</td>\n",
       "    </tr>\n",
       "    <tr>\n",
       "      <th>12</th>\n",
       "      <td>78.7</td>\n",
       "      <td>73831</td>\n",
       "      <td>596577</td>\n",
       "      <td>33642</td>\n",
       "      <td>142943</td>\n",
       "    </tr>\n",
       "    <tr>\n",
       "      <th>13</th>\n",
       "      <td>78.8</td>\n",
       "      <td>73932</td>\n",
       "      <td>599711</td>\n",
       "      <td>34979</td>\n",
       "      <td>143489</td>\n",
       "    </tr>\n",
       "    <tr>\n",
       "      <th>14</th>\n",
       "      <td>78.8</td>\n",
       "      <td>75578</td>\n",
       "      <td>611105</td>\n",
       "      <td>36427</td>\n",
       "      <td>149205</td>\n",
       "    </tr>\n",
       "    <tr>\n",
       "      <th>15</th>\n",
       "      <td>78.9</td>\n",
       "      <td>76488</td>\n",
       "      <td>614348</td>\n",
       "      <td>38170</td>\n",
       "      <td>147101</td>\n",
       "    </tr>\n",
       "    <tr>\n",
       "      <th>16</th>\n",
       "      <td>79.0</td>\n",
       "      <td>79535</td>\n",
       "      <td>633842</td>\n",
       "      <td>40326</td>\n",
       "      <td>155041</td>\n",
       "    </tr>\n",
       "  </tbody>\n",
       "</table>\n",
       "</div>"
      ],
      "text/plain": [
       "    Life Expectancy  Diabetes  Heart Diseases  Chronic Liver  \\\n",
       "0              76.7     68399          725192          26259   \n",
       "1              76.8     69301          710760          26552   \n",
       "2              77.0     71372          700142          27035   \n",
       "3              77.0     73249          696947          27257   \n",
       "4              77.6     74219          685089          27503   \n",
       "5              77.5     73138          652486          27013   \n",
       "6              77.6     75119          652091          27530   \n",
       "7              77.8     72449          631636          27555   \n",
       "8              78.1     71382          616067          29165   \n",
       "9              78.2     70553          616828          29963   \n",
       "10             78.5     68705          599143          30558   \n",
       "11             78.7     69071          597689          31903   \n",
       "12             78.7     73831          596577          33642   \n",
       "13             78.8     73932          599711          34979   \n",
       "14             78.8     75578          611105          36427   \n",
       "15             78.9     76488          614348          38170   \n",
       "16             79.0     79535          633842          40326   \n",
       "\n",
       "    Chronic Lower Respiratory  \n",
       "0                      124181  \n",
       "1                      122009  \n",
       "2                      123013  \n",
       "3                      124816  \n",
       "4                      126382  \n",
       "5                      121987  \n",
       "6                      130933  \n",
       "7                      124583  \n",
       "8                      127924  \n",
       "9                      141090  \n",
       "10                     137353  \n",
       "11                     138080  \n",
       "12                     142943  \n",
       "13                     143489  \n",
       "14                     149205  \n",
       "15                     147101  \n",
       "16                     155041  "
      ]
     },
     "execution_count": 28,
     "metadata": {},
     "output_type": "execute_result"
    }
   ],
   "source": [
    "df"
   ]
  },
  {
   "cell_type": "code",
   "execution_count": 29,
   "metadata": {},
   "outputs": [
    {
     "data": {
      "text/html": [
       "<div>\n",
       "<style scoped>\n",
       "    .dataframe tbody tr th:only-of-type {\n",
       "        vertical-align: middle;\n",
       "    }\n",
       "\n",
       "    .dataframe tbody tr th {\n",
       "        vertical-align: top;\n",
       "    }\n",
       "\n",
       "    .dataframe thead th {\n",
       "        text-align: right;\n",
       "    }\n",
       "</style>\n",
       "<table border=\"1\" class=\"dataframe\">\n",
       "  <thead>\n",
       "    <tr style=\"text-align: right;\">\n",
       "      <th></th>\n",
       "      <th>Life Expectancy</th>\n",
       "      <th>Diabetes</th>\n",
       "      <th>Heart Diseases</th>\n",
       "      <th>Chronic Liver</th>\n",
       "      <th>Chronic Lower Respiratory</th>\n",
       "    </tr>\n",
       "  </thead>\n",
       "  <tbody>\n",
       "    <tr>\n",
       "      <th>Life Expectancy</th>\n",
       "      <td>1.000000</td>\n",
       "      <td>0.463616</td>\n",
       "      <td>-0.914420</td>\n",
       "      <td>0.877055</td>\n",
       "      <td>0.898548</td>\n",
       "    </tr>\n",
       "    <tr>\n",
       "      <th>Diabetes</th>\n",
       "      <td>0.463616</td>\n",
       "      <td>1.000000</td>\n",
       "      <td>-0.221813</td>\n",
       "      <td>0.652772</td>\n",
       "      <td>0.558033</td>\n",
       "    </tr>\n",
       "    <tr>\n",
       "      <th>Heart Diseases</th>\n",
       "      <td>-0.914420</td>\n",
       "      <td>-0.221813</td>\n",
       "      <td>1.000000</td>\n",
       "      <td>-0.636567</td>\n",
       "      <td>-0.699993</td>\n",
       "    </tr>\n",
       "    <tr>\n",
       "      <th>Chronic Liver</th>\n",
       "      <td>0.877055</td>\n",
       "      <td>0.652772</td>\n",
       "      <td>-0.636567</td>\n",
       "      <td>1.000000</td>\n",
       "      <td>0.952249</td>\n",
       "    </tr>\n",
       "    <tr>\n",
       "      <th>Chronic Lower Respiratory</th>\n",
       "      <td>0.898548</td>\n",
       "      <td>0.558033</td>\n",
       "      <td>-0.699993</td>\n",
       "      <td>0.952249</td>\n",
       "      <td>1.000000</td>\n",
       "    </tr>\n",
       "  </tbody>\n",
       "</table>\n",
       "</div>"
      ],
      "text/plain": [
       "                           Life Expectancy  Diabetes  Heart Diseases  \\\n",
       "Life Expectancy                   1.000000  0.463616       -0.914420   \n",
       "Diabetes                          0.463616  1.000000       -0.221813   \n",
       "Heart Diseases                   -0.914420 -0.221813        1.000000   \n",
       "Chronic Liver                     0.877055  0.652772       -0.636567   \n",
       "Chronic Lower Respiratory         0.898548  0.558033       -0.699993   \n",
       "\n",
       "                           Chronic Liver  Chronic Lower Respiratory  \n",
       "Life Expectancy                 0.877055                   0.898548  \n",
       "Diabetes                        0.652772                   0.558033  \n",
       "Heart Diseases                 -0.636567                  -0.699993  \n",
       "Chronic Liver                   1.000000                   0.952249  \n",
       "Chronic Lower Respiratory       0.952249                   1.000000  "
      ]
     },
     "execution_count": 29,
     "metadata": {},
     "output_type": "execute_result"
    }
   ],
   "source": [
    "df.corr()"
   ]
  },
  {
   "cell_type": "code",
   "execution_count": 30,
   "metadata": {},
   "outputs": [
    {
     "data": {
      "text/html": [
       "<div>\n",
       "<style scoped>\n",
       "    .dataframe tbody tr th:only-of-type {\n",
       "        vertical-align: middle;\n",
       "    }\n",
       "\n",
       "    .dataframe tbody tr th {\n",
       "        vertical-align: top;\n",
       "    }\n",
       "\n",
       "    .dataframe thead th {\n",
       "        text-align: right;\n",
       "    }\n",
       "</style>\n",
       "<table border=\"1\" class=\"dataframe\">\n",
       "  <thead>\n",
       "    <tr style=\"text-align: right;\">\n",
       "      <th></th>\n",
       "      <th>Life Expectancy</th>\n",
       "      <th>Diabetes</th>\n",
       "      <th>Heart Diseases</th>\n",
       "      <th>Chronic Liver</th>\n",
       "      <th>Chronic Lower Respiratory</th>\n",
       "    </tr>\n",
       "  </thead>\n",
       "  <tbody>\n",
       "    <tr>\n",
       "      <th>Life Expectancy</th>\n",
       "      <td>1.000000</td>\n",
       "      <td>0.403030</td>\n",
       "      <td>-0.656790</td>\n",
       "      <td>0.955330</td>\n",
       "      <td>0.791133</td>\n",
       "    </tr>\n",
       "    <tr>\n",
       "      <th>Diabetes</th>\n",
       "      <td>0.403030</td>\n",
       "      <td>1.000000</td>\n",
       "      <td>-0.117647</td>\n",
       "      <td>0.426471</td>\n",
       "      <td>0.441176</td>\n",
       "    </tr>\n",
       "    <tr>\n",
       "      <th>Heart Diseases</th>\n",
       "      <td>-0.656790</td>\n",
       "      <td>-0.117647</td>\n",
       "      <td>1.000000</td>\n",
       "      <td>-0.632353</td>\n",
       "      <td>-0.500000</td>\n",
       "    </tr>\n",
       "    <tr>\n",
       "      <th>Chronic Liver</th>\n",
       "      <td>0.955330</td>\n",
       "      <td>0.426471</td>\n",
       "      <td>-0.632353</td>\n",
       "      <td>1.000000</td>\n",
       "      <td>0.838235</td>\n",
       "    </tr>\n",
       "    <tr>\n",
       "      <th>Chronic Lower Respiratory</th>\n",
       "      <td>0.791133</td>\n",
       "      <td>0.441176</td>\n",
       "      <td>-0.500000</td>\n",
       "      <td>0.838235</td>\n",
       "      <td>1.000000</td>\n",
       "    </tr>\n",
       "  </tbody>\n",
       "</table>\n",
       "</div>"
      ],
      "text/plain": [
       "                           Life Expectancy  Diabetes  Heart Diseases  \\\n",
       "Life Expectancy                   1.000000  0.403030       -0.656790   \n",
       "Diabetes                          0.403030  1.000000       -0.117647   \n",
       "Heart Diseases                   -0.656790 -0.117647        1.000000   \n",
       "Chronic Liver                     0.955330  0.426471       -0.632353   \n",
       "Chronic Lower Respiratory         0.791133  0.441176       -0.500000   \n",
       "\n",
       "                           Chronic Liver  Chronic Lower Respiratory  \n",
       "Life Expectancy                 0.955330                   0.791133  \n",
       "Diabetes                        0.426471                   0.441176  \n",
       "Heart Diseases                 -0.632353                  -0.500000  \n",
       "Chronic Liver                   1.000000                   0.838235  \n",
       "Chronic Lower Respiratory       0.838235                   1.000000  "
      ]
     },
     "execution_count": 30,
     "metadata": {},
     "output_type": "execute_result"
    }
   ],
   "source": [
    "df.corr(method = 'kendall')"
   ]
  },
  {
   "cell_type": "code",
   "execution_count": 31,
   "metadata": {},
   "outputs": [
    {
     "data": {
      "text/html": [
       "<div>\n",
       "<style scoped>\n",
       "    .dataframe tbody tr th:only-of-type {\n",
       "        vertical-align: middle;\n",
       "    }\n",
       "\n",
       "    .dataframe tbody tr th {\n",
       "        vertical-align: top;\n",
       "    }\n",
       "\n",
       "    .dataframe thead th {\n",
       "        text-align: right;\n",
       "    }\n",
       "</style>\n",
       "<table border=\"1\" class=\"dataframe\">\n",
       "  <thead>\n",
       "    <tr style=\"text-align: right;\">\n",
       "      <th></th>\n",
       "      <th>Life Expectancy</th>\n",
       "      <th>Diabetes</th>\n",
       "      <th>Heart Diseases</th>\n",
       "      <th>Chronic Liver</th>\n",
       "      <th>Chronic Lower Respiratory</th>\n",
       "    </tr>\n",
       "  </thead>\n",
       "  <tbody>\n",
       "    <tr>\n",
       "      <th>Life Expectancy</th>\n",
       "      <td>1.000000</td>\n",
       "      <td>0.538085</td>\n",
       "      <td>-0.807128</td>\n",
       "      <td>0.990175</td>\n",
       "      <td>0.927521</td>\n",
       "    </tr>\n",
       "    <tr>\n",
       "      <th>Diabetes</th>\n",
       "      <td>0.538085</td>\n",
       "      <td>1.000000</td>\n",
       "      <td>-0.151961</td>\n",
       "      <td>0.551471</td>\n",
       "      <td>0.558824</td>\n",
       "    </tr>\n",
       "    <tr>\n",
       "      <th>Heart Diseases</th>\n",
       "      <td>-0.807128</td>\n",
       "      <td>-0.151961</td>\n",
       "      <td>1.000000</td>\n",
       "      <td>-0.796569</td>\n",
       "      <td>-0.705882</td>\n",
       "    </tr>\n",
       "    <tr>\n",
       "      <th>Chronic Liver</th>\n",
       "      <td>0.990175</td>\n",
       "      <td>0.551471</td>\n",
       "      <td>-0.796569</td>\n",
       "      <td>1.000000</td>\n",
       "      <td>0.953431</td>\n",
       "    </tr>\n",
       "    <tr>\n",
       "      <th>Chronic Lower Respiratory</th>\n",
       "      <td>0.927521</td>\n",
       "      <td>0.558824</td>\n",
       "      <td>-0.705882</td>\n",
       "      <td>0.953431</td>\n",
       "      <td>1.000000</td>\n",
       "    </tr>\n",
       "  </tbody>\n",
       "</table>\n",
       "</div>"
      ],
      "text/plain": [
       "                           Life Expectancy  Diabetes  Heart Diseases  \\\n",
       "Life Expectancy                   1.000000  0.538085       -0.807128   \n",
       "Diabetes                          0.538085  1.000000       -0.151961   \n",
       "Heart Diseases                   -0.807128 -0.151961        1.000000   \n",
       "Chronic Liver                     0.990175  0.551471       -0.796569   \n",
       "Chronic Lower Respiratory         0.927521  0.558824       -0.705882   \n",
       "\n",
       "                           Chronic Liver  Chronic Lower Respiratory  \n",
       "Life Expectancy                 0.990175                   0.927521  \n",
       "Diabetes                        0.551471                   0.558824  \n",
       "Heart Diseases                 -0.796569                  -0.705882  \n",
       "Chronic Liver                   1.000000                   0.953431  \n",
       "Chronic Lower Respiratory       0.953431                   1.000000  "
      ]
     },
     "execution_count": 31,
     "metadata": {},
     "output_type": "execute_result"
    }
   ],
   "source": [
    "df.corr(method = 'spearman')"
   ]
  },
  {
   "cell_type": "code",
   "execution_count": 32,
   "metadata": {},
   "outputs": [],
   "source": [
    "import numpy as np\n",
    "import pandas as pd\n",
    "import matplotlib\n",
    "%matplotlib inline"
   ]
  },
  {
   "cell_type": "code",
   "execution_count": 33,
   "metadata": {},
   "outputs": [],
   "source": [
    "df_ln = pd.DataFrame()\n",
    "for col in df:\n",
    "    if col not in df_ln:\n",
    "        df_ln[col] = np.log(df[col]).diff()"
   ]
  },
  {
   "cell_type": "code",
   "execution_count": 34,
   "metadata": {},
   "outputs": [
    {
     "data": {
      "text/html": [
       "<div>\n",
       "<style scoped>\n",
       "    .dataframe tbody tr th:only-of-type {\n",
       "        vertical-align: middle;\n",
       "    }\n",
       "\n",
       "    .dataframe tbody tr th {\n",
       "        vertical-align: top;\n",
       "    }\n",
       "\n",
       "    .dataframe thead th {\n",
       "        text-align: right;\n",
       "    }\n",
       "</style>\n",
       "<table border=\"1\" class=\"dataframe\">\n",
       "  <thead>\n",
       "    <tr style=\"text-align: right;\">\n",
       "      <th></th>\n",
       "      <th>Life Expectancy</th>\n",
       "      <th>Diabetes</th>\n",
       "      <th>Heart Diseases</th>\n",
       "      <th>Chronic Liver</th>\n",
       "      <th>Chronic Lower Respiratory</th>\n",
       "    </tr>\n",
       "  </thead>\n",
       "  <tbody>\n",
       "    <tr>\n",
       "      <th>0</th>\n",
       "      <td>NaN</td>\n",
       "      <td>NaN</td>\n",
       "      <td>NaN</td>\n",
       "      <td>NaN</td>\n",
       "      <td>NaN</td>\n",
       "    </tr>\n",
       "    <tr>\n",
       "      <th>1</th>\n",
       "      <td>0.001303</td>\n",
       "      <td>0.013101</td>\n",
       "      <td>-0.020102</td>\n",
       "      <td>0.011096</td>\n",
       "      <td>-0.017645</td>\n",
       "    </tr>\n",
       "    <tr>\n",
       "      <th>2</th>\n",
       "      <td>0.002601</td>\n",
       "      <td>0.029446</td>\n",
       "      <td>-0.015052</td>\n",
       "      <td>0.018027</td>\n",
       "      <td>0.008195</td>\n",
       "    </tr>\n",
       "    <tr>\n",
       "      <th>3</th>\n",
       "      <td>0.000000</td>\n",
       "      <td>0.025959</td>\n",
       "      <td>-0.004574</td>\n",
       "      <td>0.008178</td>\n",
       "      <td>0.014551</td>\n",
       "    </tr>\n",
       "    <tr>\n",
       "      <th>4</th>\n",
       "      <td>0.007762</td>\n",
       "      <td>0.013156</td>\n",
       "      <td>-0.017161</td>\n",
       "      <td>0.008985</td>\n",
       "      <td>0.012468</td>\n",
       "    </tr>\n",
       "  </tbody>\n",
       "</table>\n",
       "</div>"
      ],
      "text/plain": [
       "   Life Expectancy  Diabetes  Heart Diseases  Chronic Liver  \\\n",
       "0              NaN       NaN             NaN            NaN   \n",
       "1         0.001303  0.013101       -0.020102       0.011096   \n",
       "2         0.002601  0.029446       -0.015052       0.018027   \n",
       "3         0.000000  0.025959       -0.004574       0.008178   \n",
       "4         0.007762  0.013156       -0.017161       0.008985   \n",
       "\n",
       "   Chronic Lower Respiratory  \n",
       "0                        NaN  \n",
       "1                  -0.017645  \n",
       "2                   0.008195  \n",
       "3                   0.014551  \n",
       "4                   0.012468  "
      ]
     },
     "execution_count": 34,
     "metadata": {},
     "output_type": "execute_result"
    }
   ],
   "source": [
    "df_ln.head()"
   ]
  },
  {
   "cell_type": "code",
   "execution_count": 35,
   "metadata": {},
   "outputs": [],
   "source": [
    "df_corr = df_ln.corr()"
   ]
  },
  {
   "cell_type": "code",
   "execution_count": 36,
   "metadata": {},
   "outputs": [
    {
     "data": {
      "text/html": [
       "<div>\n",
       "<style scoped>\n",
       "    .dataframe tbody tr th:only-of-type {\n",
       "        vertical-align: middle;\n",
       "    }\n",
       "\n",
       "    .dataframe tbody tr th {\n",
       "        vertical-align: top;\n",
       "    }\n",
       "\n",
       "    .dataframe thead th {\n",
       "        text-align: right;\n",
       "    }\n",
       "</style>\n",
       "<table border=\"1\" class=\"dataframe\">\n",
       "  <thead>\n",
       "    <tr style=\"text-align: right;\">\n",
       "      <th></th>\n",
       "      <th>Life Expectancy</th>\n",
       "      <th>Diabetes</th>\n",
       "      <th>Heart Diseases</th>\n",
       "      <th>Chronic Liver</th>\n",
       "      <th>Chronic Lower Respiratory</th>\n",
       "    </tr>\n",
       "  </thead>\n",
       "  <tbody>\n",
       "    <tr>\n",
       "      <th>Life Expectancy</th>\n",
       "      <td>1.000000</td>\n",
       "      <td>-0.260224</td>\n",
       "      <td>-0.202929</td>\n",
       "      <td>0.007542</td>\n",
       "      <td>-0.092320</td>\n",
       "    </tr>\n",
       "    <tr>\n",
       "      <th>Diabetes</th>\n",
       "      <td>-0.260224</td>\n",
       "      <td>1.000000</td>\n",
       "      <td>0.600176</td>\n",
       "      <td>0.398743</td>\n",
       "      <td>0.446767</td>\n",
       "    </tr>\n",
       "    <tr>\n",
       "      <th>Heart Diseases</th>\n",
       "      <td>-0.202929</td>\n",
       "      <td>0.600176</td>\n",
       "      <td>1.000000</td>\n",
       "      <td>0.687457</td>\n",
       "      <td>0.638677</td>\n",
       "    </tr>\n",
       "    <tr>\n",
       "      <th>Chronic Liver</th>\n",
       "      <td>0.007542</td>\n",
       "      <td>0.398743</td>\n",
       "      <td>0.687457</td>\n",
       "      <td>1.000000</td>\n",
       "      <td>0.451108</td>\n",
       "    </tr>\n",
       "    <tr>\n",
       "      <th>Chronic Lower Respiratory</th>\n",
       "      <td>-0.092320</td>\n",
       "      <td>0.446767</td>\n",
       "      <td>0.638677</td>\n",
       "      <td>0.451108</td>\n",
       "      <td>1.000000</td>\n",
       "    </tr>\n",
       "  </tbody>\n",
       "</table>\n",
       "</div>"
      ],
      "text/plain": [
       "                           Life Expectancy  Diabetes  Heart Diseases  \\\n",
       "Life Expectancy                   1.000000 -0.260224       -0.202929   \n",
       "Diabetes                         -0.260224  1.000000        0.600176   \n",
       "Heart Diseases                   -0.202929  0.600176        1.000000   \n",
       "Chronic Liver                     0.007542  0.398743        0.687457   \n",
       "Chronic Lower Respiratory        -0.092320  0.446767        0.638677   \n",
       "\n",
       "                           Chronic Liver  Chronic Lower Respiratory  \n",
       "Life Expectancy                 0.007542                  -0.092320  \n",
       "Diabetes                        0.398743                   0.446767  \n",
       "Heart Diseases                  0.687457                   0.638677  \n",
       "Chronic Liver                   1.000000                   0.451108  \n",
       "Chronic Lower Respiratory       0.451108                   1.000000  "
      ]
     },
     "execution_count": 36,
     "metadata": {},
     "output_type": "execute_result"
    }
   ],
   "source": [
    "df_corr"
   ]
  },
  {
   "cell_type": "code",
   "execution_count": 38,
   "metadata": {},
   "outputs": [
    {
     "name": "stderr",
     "output_type": "stream",
     "text": [
      "C:\\Users\\Ege\\Anaconda\\lib\\site-packages\\ipykernel_launcher.py:2: FutureWarning: 'pandas.tools.plotting.scatter_matrix' is deprecated, import 'pandas.plotting.scatter_matrix' instead.\n",
      "  \n"
     ]
    },
    {
     "data": {
      "text/plain": [
       "array([[<matplotlib.axes._subplots.AxesSubplot object at 0x000001EC632C5668>,\n",
       "        <matplotlib.axes._subplots.AxesSubplot object at 0x000001EC6378BEB8>,\n",
       "        <matplotlib.axes._subplots.AxesSubplot object at 0x000001EC6335AD68>,\n",
       "        <matplotlib.axes._subplots.AxesSubplot object at 0x000001EC63395D68>,\n",
       "        <matplotlib.axes._subplots.AxesSubplot object at 0x000001EC633D1D68>],\n",
       "       [<matplotlib.axes._subplots.AxesSubplot object at 0x000001EC633D1DA0>,\n",
       "        <matplotlib.axes._subplots.AxesSubplot object at 0x000001EC6343A780>,\n",
       "        <matplotlib.axes._subplots.AxesSubplot object at 0x000001EC63477C88>,\n",
       "        <matplotlib.axes._subplots.AxesSubplot object at 0x000001EC634B1C50>,\n",
       "        <matplotlib.axes._subplots.AxesSubplot object at 0x000001EC63454518>],\n",
       "       [<matplotlib.axes._subplots.AxesSubplot object at 0x000001EC63521240>,\n",
       "        <matplotlib.axes._subplots.AxesSubplot object at 0x000001EC63558780>,\n",
       "        <matplotlib.axes._subplots.AxesSubplot object at 0x000001EC6358FCC0>,\n",
       "        <matplotlib.axes._subplots.AxesSubplot object at 0x000001EC635B1080>,\n",
       "        <matplotlib.axes._subplots.AxesSubplot object at 0x000001EC635F5CC0>],\n",
       "       [<matplotlib.axes._subplots.AxesSubplot object at 0x000001EC63637080>,\n",
       "        <matplotlib.axes._subplots.AxesSubplot object at 0x000001EC6364E940>,\n",
       "        <matplotlib.axes._subplots.AxesSubplot object at 0x000001EC636A0FD0>,\n",
       "        <matplotlib.axes._subplots.AxesSubplot object at 0x000001EC63333588>,\n",
       "        <matplotlib.axes._subplots.AxesSubplot object at 0x000001EC636E4E48>],\n",
       "       [<matplotlib.axes._subplots.AxesSubplot object at 0x000001EC63A6CE48>,\n",
       "        <matplotlib.axes._subplots.AxesSubplot object at 0x000001EC63AA6E48>,\n",
       "        <matplotlib.axes._subplots.AxesSubplot object at 0x000001EC63AE1E48>,\n",
       "        <matplotlib.axes._subplots.AxesSubplot object at 0x000001EC63B137B8>,\n",
       "        <matplotlib.axes._subplots.AxesSubplot object at 0x000001EC63B4CC88>]],\n",
       "      dtype=object)"
      ]
     },
     "execution_count": 38,
     "metadata": {},
     "output_type": "execute_result"
    },
    {
     "data": {
      "image/png": "[encoded data removed]",
      "text/plain": [
       "<matplotlib.figure.Figure at 0x1ec631448d0>"
      ]
     },
     "metadata": {},
     "output_type": "display_data"
    }
   ],
   "source": [
    "from pandas.tools.plotting import scatter_matrix\n",
    "scatter_matrix(df_ln, figsize = (16,12), alpha = 1)"
   ]
  }
 ],
 "metadata": {
  "kernelspec": {
   "display_name": "Python 3",
   "language": "python",
   "name": "python3"
  },
  "language_info": {
   "codemirror_mode": {
    "name": "ipython",
    "version": 3
   },
   "file_extension": ".py",
   "mimetype": "text/x-python",
   "name": "python",
   "nbconvert_exporter": "python",
   "pygments_lexer": "ipython3",
   "version": "3.6.4"
  }
 },
 "nbformat": 4,
 "nbformat_minor": 2
}
