{
 "cells": [
  {
   "cell_type": "code",
   "execution_count": 3,
   "metadata": {},
   "outputs": [],
   "source": [
    "import numpy as np\n",
    "import pandas as pd\n",
    "from pandas import Series, DataFrame\n",
    "\n",
    "import scipy\n",
    "from scipy.stats import spearmanr\n",
    "\n",
    "from pylab import rcParams\n",
    "import seaborn as sb\n",
    "import matplotlib.pyplot as plt\n",
    "\n",
    "import sklearn\n",
    "from sklearn.preprocessing import scale\n",
    "from sklearn.linear_model import LogisticRegression\n",
    "from sklearn.model_selection import train_test_split\n",
    "from sklearn import metrics\n",
    "from sklearn import preprocessing"
   ]
  },
  {
   "cell_type": "code",
   "execution_count": 7,
   "metadata": {},
   "outputs": [],
   "source": [
    "%matplotlib inline\n",
    "\n",
    "rcParams['figure.figsize'] = 5, 4\n",
    "sb.set_style('whitegrid')"
   ]
  },
  {
   "cell_type": "code",
   "execution_count": 9,
   "metadata": {},
   "outputs": [],
   "source": [
    "data = pd.read_excel(\"data.xlsx\")"
   ]
  },
  {
   "cell_type": "code",
   "execution_count": 10,
   "metadata": {},
   "outputs": [
    {
     "data": {
      "text/html": [
       "<div>\n",
       "<style scoped>\n",
       "    .dataframe tbody tr th:only-of-type {\n",
       "        vertical-align: middle;\n",
       "    }\n",
       "\n",
       "    .dataframe tbody tr th {\n",
       "        vertical-align: top;\n",
       "    }\n",
       "\n",
       "    .dataframe thead th {\n",
       "        text-align: right;\n",
       "    }\n",
       "</style>\n",
       "<table border=\"1\" class=\"dataframe\">\n",
       "  <thead>\n",
       "    <tr style=\"text-align: right;\">\n",
       "      <th></th>\n",
       "      <th>Life Expectancy</th>\n",
       "      <th>Accidental Deaths</th>\n",
       "      <th>Alzheimer's</th>\n",
       "      <th>Assault</th>\n",
       "      <th>Cerebrovascular Diseases</th>\n",
       "      <th>Chronic Liver</th>\n",
       "      <th>Chronic Lower Respiratory</th>\n",
       "      <th>Diabetes</th>\n",
       "      <th>Heart Diseases</th>\n",
       "      <th>Hypertension</th>\n",
       "      <th>Parkinson's</th>\n",
       "      <th>Suicide</th>\n",
       "    </tr>\n",
       "  </thead>\n",
       "  <tbody>\n",
       "    <tr>\n",
       "      <th>0</th>\n",
       "      <td>76.7</td>\n",
       "      <td>97860</td>\n",
       "      <td>44536</td>\n",
       "      <td>16889</td>\n",
       "      <td>167366</td>\n",
       "      <td>26259</td>\n",
       "      <td>124181</td>\n",
       "      <td>68399</td>\n",
       "      <td>725192</td>\n",
       "      <td>19638</td>\n",
       "      <td>14593</td>\n",
       "      <td>29199</td>\n",
       "    </tr>\n",
       "    <tr>\n",
       "      <th>1</th>\n",
       "      <td>76.8</td>\n",
       "      <td>97900</td>\n",
       "      <td>49558</td>\n",
       "      <td>16765</td>\n",
       "      <td>167661</td>\n",
       "      <td>26552</td>\n",
       "      <td>122009</td>\n",
       "      <td>69301</td>\n",
       "      <td>710760</td>\n",
       "      <td>18073</td>\n",
       "      <td>15682</td>\n",
       "      <td>29350</td>\n",
       "    </tr>\n",
       "    <tr>\n",
       "      <th>2</th>\n",
       "      <td>77.0</td>\n",
       "      <td>101537</td>\n",
       "      <td>53832</td>\n",
       "      <td>20308</td>\n",
       "      <td>163538</td>\n",
       "      <td>27035</td>\n",
       "      <td>123013</td>\n",
       "      <td>71372</td>\n",
       "      <td>700142</td>\n",
       "      <td>19250</td>\n",
       "      <td>16544</td>\n",
       "      <td>30622</td>\n",
       "    </tr>\n",
       "    <tr>\n",
       "      <th>3</th>\n",
       "      <td>77.0</td>\n",
       "      <td>106742</td>\n",
       "      <td>58866</td>\n",
       "      <td>17638</td>\n",
       "      <td>162672</td>\n",
       "      <td>27257</td>\n",
       "      <td>124816</td>\n",
       "      <td>73249</td>\n",
       "      <td>696947</td>\n",
       "      <td>20261</td>\n",
       "      <td>16959</td>\n",
       "      <td>31655</td>\n",
       "    </tr>\n",
       "    <tr>\n",
       "      <th>4</th>\n",
       "      <td>77.6</td>\n",
       "      <td>109277</td>\n",
       "      <td>63457</td>\n",
       "      <td>17732</td>\n",
       "      <td>157689</td>\n",
       "      <td>27503</td>\n",
       "      <td>126382</td>\n",
       "      <td>74219</td>\n",
       "      <td>685089</td>\n",
       "      <td>21940</td>\n",
       "      <td>17997</td>\n",
       "      <td>31484</td>\n",
       "    </tr>\n",
       "  </tbody>\n",
       "</table>\n",
       "</div>"
      ],
      "text/plain": [
       "   Life Expectancy  Accidental Deaths  Alzheimer's  Assault  \\\n",
       "0             76.7              97860        44536    16889   \n",
       "1             76.8              97900        49558    16765   \n",
       "2             77.0             101537        53832    20308   \n",
       "3             77.0             106742        58866    17638   \n",
       "4             77.6             109277        63457    17732   \n",
       "\n",
       "   Cerebrovascular Diseases  Chronic Liver  Chronic Lower Respiratory  \\\n",
       "0                    167366          26259                     124181   \n",
       "1                    167661          26552                     122009   \n",
       "2                    163538          27035                     123013   \n",
       "3                    162672          27257                     124816   \n",
       "4                    157689          27503                     126382   \n",
       "\n",
       "   Diabetes  Heart Diseases  Hypertension  Parkinson's  Suicide  \n",
       "0     68399          725192         19638        14593    29199  \n",
       "1     69301          710760         18073        15682    29350  \n",
       "2     71372          700142         19250        16544    30622  \n",
       "3     73249          696947         20261        16959    31655  \n",
       "4     74219          685089         21940        17997    31484  "
      ]
     },
     "execution_count": 10,
     "metadata": {},
     "output_type": "execute_result"
    }
   ],
   "source": [
    "data.head()"
   ]
  },
  {
   "cell_type": "code",
   "execution_count": 29,
   "metadata": {},
   "outputs": [],
   "source": [
    "dt = data.ix[:,(7,8)].values\n",
    "dt_names = ['Diabetes', 'Heart Diseases'] "
   ]
  },
  {
   "cell_type": "code",
   "execution_count": 30,
   "metadata": {},
   "outputs": [
    {
     "data": {
      "text/plain": [
       "<matplotlib.axes._subplots.AxesSubplot at 0x1d3e7e5eb38>"
      ]
     },
     "execution_count": 30,
     "metadata": {},
     "output_type": "execute_result"
    },
    {
     "data": {
      "image/png": "[encoded data removed]",
      "text/plain": [
       "<matplotlib.figure.Figure at 0x1d3e7e06da0>"
      ]
     },
     "metadata": {},
     "output_type": "display_data"
    }
   ],
   "source": [
    "sb.regplot(x='Diabetes', y='Heart Diseases', data = data, scatter = True)"
   ]
  },
  {
   "cell_type": "code",
   "execution_count": 31,
   "metadata": {},
   "outputs": [
    {
     "name": "stdout",
     "output_type": "stream",
     "text": [
      "-0.1519607843137255\n"
     ]
    }
   ],
   "source": [
    "Diabetes = data['Diabetes']\n",
    "Heart_Diseases = data['Heart Diseases']\n",
    "spearmanr_coefficient, p_value = spearmanr(Diabetes, Heart_Diseases)\n",
    "\n",
    "print(spearmanr_coefficient)"
   ]
  },
  {
   "cell_type": "code",
   "execution_count": 32,
   "metadata": {},
   "outputs": [
    {
     "data": {
      "text/plain": [
       "Life Expectancy                 0\n",
       "Accidental Deaths               0\n",
       "Alzheimer's                     0\n",
       "Assault                         0\n",
       "Cerebrovascular Diseases        0\n",
       "Chronic Liver                   0\n",
       "Chronic Lower Respiratory       0\n",
       "Diabetes                        0\n",
       "Heart Diseases                  0\n",
       "Hypertension                    0\n",
       "Parkinson's                     0\n",
       "Suicide                         0\n",
       "Heart_Diseases_Effectiveness    0\n",
       "dtype: int64"
      ]
     },
     "execution_count": 32,
     "metadata": {},
     "output_type": "execute_result"
    }
   ],
   "source": [
    "data.isnull().sum()"
   ]
  },
  {
   "cell_type": "code",
   "execution_count": 33,
   "metadata": {},
   "outputs": [],
   "source": [
    "def check(x):\n",
    "    if x > 650000:\n",
    "        return 1\n",
    "    else:\n",
    "        return 0\n",
    "    \n",
    "data['Heart_Diseases_Effectiveness'] = data['Heart Diseases'].apply(check)"
   ]
  },
  {
   "cell_type": "code",
   "execution_count": 34,
   "metadata": {},
   "outputs": [
    {
     "data": {
      "text/plain": [
       "<matplotlib.axes._subplots.AxesSubplot at 0x1d3e8527ba8>"
      ]
     },
     "execution_count": 34,
     "metadata": {},
     "output_type": "execute_result"
    },
    {
     "data": {
      "image/png": "[encoded data removed]",
      "text/plain": [
       "<matplotlib.figure.Figure at 0x1d3e7e7ae10>"
      ]
     },
     "metadata": {},
     "output_type": "display_data"
    }
   ],
   "source": [
    "sb.countplot(x='Heart_Diseases_Effectiveness', data = data, palette = 'hls')"
   ]
  },
  {
   "cell_type": "code",
   "execution_count": 21,
   "metadata": {},
   "outputs": [
    {
     "name": "stdout",
     "output_type": "stream",
     "text": [
      "<class 'pandas.core.frame.DataFrame'>\n",
      "RangeIndex: 17 entries, 0 to 16\n",
      "Data columns (total 13 columns):\n",
      "Life Expectancy                 17 non-null float64\n",
      "Accidental Deaths               17 non-null int64\n",
      "Alzheimer's                     17 non-null int64\n",
      "Assault                         17 non-null int64\n",
      "Cerebrovascular Diseases        17 non-null int64\n",
      "Chronic Liver                   17 non-null int64\n",
      "Chronic Lower Respiratory       17 non-null int64\n",
      "Diabetes                        17 non-null int64\n",
      "Heart Diseases                  17 non-null int64\n",
      "Hypertension                    17 non-null int64\n",
      "Parkinson's                     17 non-null int64\n",
      "Suicide                         17 non-null int64\n",
      "Heart_Diseases_Effectiveness    17 non-null int64\n",
      "dtypes: float64(1), int64(12)\n",
      "memory usage: 1.8 KB\n"
     ]
    }
   ],
   "source": [
    "data.info() #smalldataset"
   ]
  },
  {
   "cell_type": "code",
   "execution_count": 22,
   "metadata": {},
   "outputs": [
    {
     "name": "stderr",
     "output_type": "stream",
     "text": [
      "C:\\Users\\Ege\\Anaconda\\lib\\site-packages\\sklearn\\utils\\validation.py:475: DataConversionWarning: Data with input dtype int64 was converted to float64 by the scale function.\n",
      "  warnings.warn(msg, DataConversionWarning)\n"
     ]
    }
   ],
   "source": [
    "X = scale(dt)"
   ]
  },
  {
   "cell_type": "code",
   "execution_count": 49,
   "metadata": {},
   "outputs": [
    {
     "data": {
      "text/plain": [
       "LogisticRegression(C=1.0, class_weight=None, dual=False, fit_intercept=True,\n",
       "          intercept_scaling=1, max_iter=100, multi_class='ovr', n_jobs=1,\n",
       "          penalty='l2', random_state=None, solver='liblinear', tol=0.0001,\n",
       "          verbose=0, warm_start=False)"
      ]
     },
     "execution_count": 49,
     "metadata": {},
     "output_type": "execute_result"
    }
   ],
   "source": [
    "lr = LogisticRegression()\n",
    "\n",
    "lr.fit(X,Y)"
   ]
  },
  {
   "cell_type": "code",
   "execution_count": 26,
   "metadata": {},
   "outputs": [
    {
     "data": {
      "text/plain": [
       "0.29411764705882354"
      ]
     },
     "execution_count": 26,
     "metadata": {},
     "output_type": "execute_result"
    }
   ],
   "source": [
    "lr.score(X,Y)"
   ]
  },
  {
   "cell_type": "code",
   "execution_count": 45,
   "metadata": {},
   "outputs": [],
   "source": [
    "Y = data.ix[:, 12].values"
   ]
  },
  {
   "cell_type": "code",
   "execution_count": 46,
   "metadata": {},
   "outputs": [
    {
     "data": {
      "text/plain": [
       "LogisticRegression(C=1.0, class_weight=None, dual=False, fit_intercept=True,\n",
       "          intercept_scaling=1, max_iter=100, multi_class='ovr', n_jobs=1,\n",
       "          penalty='l2', random_state=None, solver='liblinear', tol=0.0001,\n",
       "          verbose=0, warm_start=False)"
      ]
     },
     "execution_count": 46,
     "metadata": {},
     "output_type": "execute_result"
    }
   ],
   "source": [
    "lr.fit(X,Y)"
   ]
  },
  {
   "cell_type": "code",
   "execution_count": 47,
   "metadata": {},
   "outputs": [
    {
     "data": {
      "text/plain": [
       "1.0"
      ]
     },
     "execution_count": 47,
     "metadata": {},
     "output_type": "execute_result"
    }
   ],
   "source": [
    "lr.score(X,Y)"
   ]
  },
  {
   "cell_type": "code",
   "execution_count": 48,
   "metadata": {},
   "outputs": [
    {
     "name": "stdout",
     "output_type": "stream",
     "text": [
      "             precision    recall  f1-score   support\n",
      "\n",
      "          0       1.00      1.00      1.00        10\n",
      "          1       1.00      1.00      1.00         7\n",
      "\n",
      "avg / total       1.00      1.00      1.00        17\n",
      "\n"
     ]
    }
   ],
   "source": [
    "Y_pred = lr.predict(X)\n",
    "from sklearn.metrics import classification_report\n",
    "\n",
    "print(classification_report(Y, Y_pred))"
   ]
  },
  {
   "cell_type": "code",
   "execution_count": null,
   "metadata": {},
   "outputs": [],
   "source": []
  }
 ],
 "metadata": {
  "kernelspec": {
   "display_name": "Python 3",
   "language": "python",
   "name": "python3"
  },
  "language_info": {
   "codemirror_mode": {
    "name": "ipython",
    "version": 3
   },
   "file_extension": ".py",
   "mimetype": "text/x-python",
   "name": "python",
   "nbconvert_exporter": "python",
   "pygments_lexer": "ipython3",
   "version": "3.6.4"
  }
 },
 "nbformat": 4,
 "nbformat_minor": 2
}
